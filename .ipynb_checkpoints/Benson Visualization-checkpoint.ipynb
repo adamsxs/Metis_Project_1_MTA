{
 "cells": [
  {
   "cell_type": "markdown",
   "metadata": {},
   "source": [
    "# Benson Graphing\n",
    "This notebook will import pickled Pandas dataframes that contain traffic data from 2018. Eventually it will export these graphs as high quality images for our presentation. "
   ]
  },
  {
   "cell_type": "code",
   "execution_count": 1,
   "metadata": {},
   "outputs": [],
   "source": [
    "import pandas as pd\n",
    "import numpy as np\n",
    "import matplotlib.pyplot as plt\n",
    "import pickle as pkl\n",
    "\n",
    "%matplotlib inline"
   ]
  },
  {
   "cell_type": "code",
   "execution_count": 2,
   "metadata": {},
   "outputs": [],
   "source": [
    "# Read in edited dataframes representing MTA Traffic\n",
    "# for 3 months before the gala. Create dataset spanning\n",
    "# from 2016 to 2018\n",
    "\n",
    "df_2018 = pd.read_pickle('TrafficManhattanDF2018')\n",
    "df_2017 = pd.read_pickle('TrafficManhattanDF2017')\n",
    "df_2016 = pd.read_pickle('TrafficManhattanDF2016')\n",
    "\n",
    "df_traffic = pd.concat([df_2016, df_2017, df_2018])    "
   ]
  },
  {
   "cell_type": "code",
   "execution_count": 3,
   "metadata": {},
   "outputs": [
    {
     "data": {
      "text/html": [
       "<div>\n",
       "<style scoped>\n",
       "    .dataframe tbody tr th:only-of-type {\n",
       "        vertical-align: middle;\n",
       "    }\n",
       "\n",
       "    .dataframe tbody tr th {\n",
       "        vertical-align: top;\n",
       "    }\n",
       "\n",
       "    .dataframe thead th {\n",
       "        text-align: right;\n",
       "    }\n",
       "</style>\n",
       "<table border=\"1\" class=\"dataframe\">\n",
       "  <thead>\n",
       "    <tr style=\"text-align: right;\">\n",
       "      <th></th>\n",
       "      <th>C/A</th>\n",
       "      <th>UNIT</th>\n",
       "      <th>SCP</th>\n",
       "      <th>STATION</th>\n",
       "      <th>DATE</th>\n",
       "      <th>TRAFFIC</th>\n",
       "      <th>PREV_TRAFFIC</th>\n",
       "      <th>DAILY_TRAFFIC</th>\n",
       "      <th>EDITED_STATION</th>\n",
       "      <th>Manhattan</th>\n",
       "    </tr>\n",
       "  </thead>\n",
       "  <tbody>\n",
       "    <tr>\n",
       "      <th>0</th>\n",
       "      <td>A002</td>\n",
       "      <td>R051</td>\n",
       "      <td>02-00-00</td>\n",
       "      <td>59 ST</td>\n",
       "      <td>03/21/2016</td>\n",
       "      <td>7481061.0</td>\n",
       "      <td>7479828.0</td>\n",
       "      <td>1233.0</td>\n",
       "      <td>59ST</td>\n",
       "      <td>Y</td>\n",
       "    </tr>\n",
       "    <tr>\n",
       "      <th>1</th>\n",
       "      <td>A002</td>\n",
       "      <td>R051</td>\n",
       "      <td>02-00-00</td>\n",
       "      <td>59 ST</td>\n",
       "      <td>03/22/2016</td>\n",
       "      <td>7481954.0</td>\n",
       "      <td>7481061.0</td>\n",
       "      <td>893.0</td>\n",
       "      <td>59ST</td>\n",
       "      <td>Y</td>\n",
       "    </tr>\n",
       "    <tr>\n",
       "      <th>2</th>\n",
       "      <td>A002</td>\n",
       "      <td>R051</td>\n",
       "      <td>02-00-00</td>\n",
       "      <td>59 ST</td>\n",
       "      <td>03/23/2016</td>\n",
       "      <td>7484003.0</td>\n",
       "      <td>7481954.0</td>\n",
       "      <td>2049.0</td>\n",
       "      <td>59ST</td>\n",
       "      <td>Y</td>\n",
       "    </tr>\n",
       "    <tr>\n",
       "      <th>3</th>\n",
       "      <td>A002</td>\n",
       "      <td>R051</td>\n",
       "      <td>02-00-00</td>\n",
       "      <td>59 ST</td>\n",
       "      <td>03/24/2016</td>\n",
       "      <td>7485778.0</td>\n",
       "      <td>7484003.0</td>\n",
       "      <td>1775.0</td>\n",
       "      <td>59ST</td>\n",
       "      <td>Y</td>\n",
       "    </tr>\n",
       "    <tr>\n",
       "      <th>4</th>\n",
       "      <td>A002</td>\n",
       "      <td>R051</td>\n",
       "      <td>02-00-00</td>\n",
       "      <td>59 ST</td>\n",
       "      <td>03/25/2016</td>\n",
       "      <td>7487324.0</td>\n",
       "      <td>7485778.0</td>\n",
       "      <td>1546.0</td>\n",
       "      <td>59ST</td>\n",
       "      <td>Y</td>\n",
       "    </tr>\n",
       "  </tbody>\n",
       "</table>\n",
       "</div>"
      ],
      "text/plain": [
       "    C/A  UNIT       SCP STATION        DATE    TRAFFIC  PREV_TRAFFIC  \\\n",
       "0  A002  R051  02-00-00   59 ST  03/21/2016  7481061.0     7479828.0   \n",
       "1  A002  R051  02-00-00   59 ST  03/22/2016  7481954.0     7481061.0   \n",
       "2  A002  R051  02-00-00   59 ST  03/23/2016  7484003.0     7481954.0   \n",
       "3  A002  R051  02-00-00   59 ST  03/24/2016  7485778.0     7484003.0   \n",
       "4  A002  R051  02-00-00   59 ST  03/25/2016  7487324.0     7485778.0   \n",
       "\n",
       "   DAILY_TRAFFIC EDITED_STATION Manhattan  \n",
       "0         1233.0           59ST         Y  \n",
       "1          893.0           59ST         Y  \n",
       "2         2049.0           59ST         Y  \n",
       "3         1775.0           59ST         Y  \n",
       "4         1546.0           59ST         Y  "
      ]
     },
     "execution_count": 3,
     "metadata": {},
     "output_type": "execute_result"
    }
   ],
   "source": [
    "df_traffic.head()"
   ]
  },
  {
   "cell_type": "code",
   "execution_count": 4,
   "metadata": {},
   "outputs": [
    {
     "data": {
      "text/html": [
       "<div>\n",
       "<style scoped>\n",
       "    .dataframe tbody tr th:only-of-type {\n",
       "        vertical-align: middle;\n",
       "    }\n",
       "\n",
       "    .dataframe tbody tr th {\n",
       "        vertical-align: top;\n",
       "    }\n",
       "\n",
       "    .dataframe thead th {\n",
       "        text-align: right;\n",
       "    }\n",
       "</style>\n",
       "<table border=\"1\" class=\"dataframe\">\n",
       "  <thead>\n",
       "    <tr style=\"text-align: right;\">\n",
       "      <th></th>\n",
       "      <th>DATE</th>\n",
       "      <th>STATION</th>\n",
       "      <th>TRAFFIC</th>\n",
       "      <th>PREV_TRAFFIC</th>\n",
       "      <th>DAILY_TRAFFIC</th>\n",
       "    </tr>\n",
       "  </thead>\n",
       "  <tbody>\n",
       "    <tr>\n",
       "      <th>0</th>\n",
       "      <td>06/24/2016</td>\n",
       "      <td>34 ST-HERALD SQ</td>\n",
       "      <td>6.517988e+09</td>\n",
       "      <td>6.517749e+09</td>\n",
       "      <td>243760.0</td>\n",
       "    </tr>\n",
       "    <tr>\n",
       "      <th>1</th>\n",
       "      <td>06/24/2016</td>\n",
       "      <td>23 ST</td>\n",
       "      <td>1.257192e+10</td>\n",
       "      <td>1.257171e+10</td>\n",
       "      <td>223683.0</td>\n",
       "    </tr>\n",
       "    <tr>\n",
       "      <th>2</th>\n",
       "      <td>06/24/2016</td>\n",
       "      <td>14 ST-UNION SQ</td>\n",
       "      <td>1.932043e+09</td>\n",
       "      <td>1.931834e+09</td>\n",
       "      <td>209103.0</td>\n",
       "    </tr>\n",
       "    <tr>\n",
       "      <th>3</th>\n",
       "      <td>06/24/2016</td>\n",
       "      <td>TIMES SQ-42 ST</td>\n",
       "      <td>1.023456e+10</td>\n",
       "      <td>1.023436e+10</td>\n",
       "      <td>203530.0</td>\n",
       "    </tr>\n",
       "    <tr>\n",
       "      <th>4</th>\n",
       "      <td>06/24/2016</td>\n",
       "      <td>86 ST</td>\n",
       "      <td>4.842519e+09</td>\n",
       "      <td>4.842319e+09</td>\n",
       "      <td>200562.0</td>\n",
       "    </tr>\n",
       "  </tbody>\n",
       "</table>\n",
       "</div>"
      ],
      "text/plain": [
       "         DATE          STATION       TRAFFIC  PREV_TRAFFIC  DAILY_TRAFFIC\n",
       "0  06/24/2016  34 ST-HERALD SQ  6.517988e+09  6.517749e+09       243760.0\n",
       "1  06/24/2016            23 ST  1.257192e+10  1.257171e+10       223683.0\n",
       "2  06/24/2016   14 ST-UNION SQ  1.932043e+09  1.931834e+09       209103.0\n",
       "3  06/24/2016   TIMES SQ-42 ST  1.023456e+10  1.023436e+10       203530.0\n",
       "4  06/24/2016            86 ST  4.842519e+09  4.842319e+09       200562.0"
      ]
     },
     "execution_count": 4,
     "metadata": {},
     "output_type": "execute_result"
    }
   ],
   "source": [
    "# Create dataframe that contains the daily traffic for every station in the turnstile data\n",
    "station_daily = df_traffic.groupby(['DATE', 'STATION']).sum()\\\n",
    ".sort_values(['DATE','DAILY_TRAFFIC'], ascending = [False,False])\\\n",
    ".reset_index()\n",
    "station_daily.head()"
   ]
  },
  {
   "cell_type": "code",
   "execution_count": 5,
   "metadata": {},
   "outputs": [
    {
     "data": {
      "text/html": [
       "<div>\n",
       "<style scoped>\n",
       "    .dataframe tbody tr th:only-of-type {\n",
       "        vertical-align: middle;\n",
       "    }\n",
       "\n",
       "    .dataframe tbody tr th {\n",
       "        vertical-align: top;\n",
       "    }\n",
       "\n",
       "    .dataframe thead th {\n",
       "        text-align: right;\n",
       "    }\n",
       "</style>\n",
       "<table border=\"1\" class=\"dataframe\">\n",
       "  <thead>\n",
       "    <tr style=\"text-align: right;\">\n",
       "      <th></th>\n",
       "      <th>TRAFFIC</th>\n",
       "      <th>PREV_TRAFFIC</th>\n",
       "      <th>DAILY_TRAFFIC</th>\n",
       "    </tr>\n",
       "    <tr>\n",
       "      <th>STATION</th>\n",
       "      <th></th>\n",
       "      <th></th>\n",
       "      <th></th>\n",
       "    </tr>\n",
       "  </thead>\n",
       "  <tbody>\n",
       "    <tr>\n",
       "      <th>34 ST-HERALD SQ</th>\n",
       "      <td>9.799707e+09</td>\n",
       "      <td>9.788193e+09</td>\n",
       "      <td>199689.649306</td>\n",
       "    </tr>\n",
       "    <tr>\n",
       "      <th>14 ST-UNION SQ</th>\n",
       "      <td>1.482202e+09</td>\n",
       "      <td>1.481652e+09</td>\n",
       "      <td>178076.517361</td>\n",
       "    </tr>\n",
       "    <tr>\n",
       "      <th>23 ST</th>\n",
       "      <td>1.331404e+10</td>\n",
       "      <td>1.330870e+10</td>\n",
       "      <td>177760.013889</td>\n",
       "    </tr>\n",
       "    <tr>\n",
       "      <th>TIMES SQ-42 ST</th>\n",
       "      <td>1.031115e+10</td>\n",
       "      <td>1.031072e+10</td>\n",
       "      <td>170723.506944</td>\n",
       "    </tr>\n",
       "    <tr>\n",
       "      <th>86 ST</th>\n",
       "      <td>4.835013e+09</td>\n",
       "      <td>4.834687e+09</td>\n",
       "      <td>151367.197917</td>\n",
       "    </tr>\n",
       "    <tr>\n",
       "      <th>FULTON ST</th>\n",
       "      <td>8.436369e+09</td>\n",
       "      <td>8.435932e+09</td>\n",
       "      <td>140419.500000</td>\n",
       "    </tr>\n",
       "    <tr>\n",
       "      <th>125 ST</th>\n",
       "      <td>9.516174e+09</td>\n",
       "      <td>9.510724e+09</td>\n",
       "      <td>125835.972222</td>\n",
       "    </tr>\n",
       "    <tr>\n",
       "      <th>59 ST</th>\n",
       "      <td>4.726407e+09</td>\n",
       "      <td>4.716548e+09</td>\n",
       "      <td>116903.500000</td>\n",
       "    </tr>\n",
       "    <tr>\n",
       "      <th>CANAL ST</th>\n",
       "      <td>1.073251e+10</td>\n",
       "      <td>1.071230e+10</td>\n",
       "      <td>115559.732639</td>\n",
       "    </tr>\n",
       "    <tr>\n",
       "      <th>96 ST</th>\n",
       "      <td>1.470992e+09</td>\n",
       "      <td>1.477685e+09</td>\n",
       "      <td>105773.215278</td>\n",
       "    </tr>\n",
       "    <tr>\n",
       "      <th>14 ST</th>\n",
       "      <td>6.043052e+09</td>\n",
       "      <td>6.042979e+09</td>\n",
       "      <td>102259.986111</td>\n",
       "    </tr>\n",
       "    <tr>\n",
       "      <th>CHAMBERS ST</th>\n",
       "      <td>8.915443e+09</td>\n",
       "      <td>8.914969e+09</td>\n",
       "      <td>97785.177083</td>\n",
       "    </tr>\n",
       "    <tr>\n",
       "      <th>28 ST</th>\n",
       "      <td>3.730047e+09</td>\n",
       "      <td>3.729520e+09</td>\n",
       "      <td>83115.836806</td>\n",
       "    </tr>\n",
       "    <tr>\n",
       "      <th>50 ST</th>\n",
       "      <td>2.915024e+08</td>\n",
       "      <td>2.914506e+08</td>\n",
       "      <td>78976.197917</td>\n",
       "    </tr>\n",
       "    <tr>\n",
       "      <th>72 ST</th>\n",
       "      <td>7.122436e+09</td>\n",
       "      <td>7.113909e+09</td>\n",
       "      <td>78731.861111</td>\n",
       "    </tr>\n",
       "  </tbody>\n",
       "</table>\n",
       "</div>"
      ],
      "text/plain": [
       "                      TRAFFIC  PREV_TRAFFIC  DAILY_TRAFFIC\n",
       "STATION                                                   \n",
       "34 ST-HERALD SQ  9.799707e+09  9.788193e+09  199689.649306\n",
       "14 ST-UNION SQ   1.482202e+09  1.481652e+09  178076.517361\n",
       "23 ST            1.331404e+10  1.330870e+10  177760.013889\n",
       "TIMES SQ-42 ST   1.031115e+10  1.031072e+10  170723.506944\n",
       "86 ST            4.835013e+09  4.834687e+09  151367.197917\n",
       "FULTON ST        8.436369e+09  8.435932e+09  140419.500000\n",
       "125 ST           9.516174e+09  9.510724e+09  125835.972222\n",
       "59 ST            4.726407e+09  4.716548e+09  116903.500000\n",
       "CANAL ST         1.073251e+10  1.071230e+10  115559.732639\n",
       "96 ST            1.470992e+09  1.477685e+09  105773.215278\n",
       "14 ST            6.043052e+09  6.042979e+09  102259.986111\n",
       "CHAMBERS ST      8.915443e+09  8.914969e+09   97785.177083\n",
       "28 ST            3.730047e+09  3.729520e+09   83115.836806\n",
       "50 ST            2.915024e+08  2.914506e+08   78976.197917\n",
       "72 ST            7.122436e+09  7.113909e+09   78731.861111"
      ]
     },
     "execution_count": 5,
     "metadata": {},
     "output_type": "execute_result"
    }
   ],
   "source": [
    "#Get the average traffic per station over all days\n",
    "avg_daily = station_daily.groupby(['STATION']).mean().sort_values(['DAILY_TRAFFIC'], ascending = False)\n",
    "avg_daily.head(15)"
   ]
  },
  {
   "cell_type": "code",
   "execution_count": null,
   "metadata": {},
   "outputs": [],
   "source": []
  },
  {
   "cell_type": "code",
   "execution_count": 6,
   "metadata": {},
   "outputs": [
    {
     "name": "stdout",
     "output_type": "stream",
     "text": [
      "3428412.6791763455\n"
     ]
    },
    {
     "data": {
      "text/plain": [
       "Index(['34 ST-HERALD SQ', '14 ST-UNION SQ', '23 ST', 'TIMES SQ-42 ST', '86 ST',\n",
       "       'FULTON ST', '125 ST', '59 ST', 'CANAL ST', '96 ST', '14 ST',\n",
       "       'CHAMBERS ST', '28 ST', '50 ST', '72 ST', 'WALL ST', '42 ST-BRYANT PK',\n",
       "       '7 AV', '145 ST', '8 AV', '77 ST', 'BOWLING GREEN', '116 ST',\n",
       "       'GRAND ST', '57 ST-7 AV', '103 ST', '33 ST', '49 ST', '1 AV',\n",
       "       '5 AV/53 ST', '168 ST', '181 ST', '51 ST', 'SPRING ST', '2 AV',\n",
       "       'ASTOR PL', '79 ST', 'PRINCE ST', '8 ST-NYU', 'CORTLANDT ST', '135 ST',\n",
       "       '5 AV/59 ST', 'CATHEDRAL PKWY', 'SOUTH FERRY', '57 ST', 'RECTOR ST',\n",
       "       'HOUSTON ST', '110 ST', 'BLEECKER ST', 'EAST BROADWAY', '175 ST',\n",
       "       'DYCKMAN ST', '157 ST', '191 ST', '3 AV', 'INWOOD-207 ST', '18 ST',\n",
       "       '155 ST', 'CITY HALL', '207 ST', 'BROAD ST', '6 AV', 'FRANKLIN ST',\n",
       "       'BOWERY', '190 ST', '215 ST'],\n",
       "      dtype='object', name='STATION')"
      ]
     },
     "execution_count": 6,
     "metadata": {},
     "output_type": "execute_result"
    }
   ],
   "source": [
    "# Calculate average total daily ridership (entries+exits)\n",
    "# This\n",
    "print(avg_daily['DAILY_TRAFFIC'].sum())\n",
    "\n",
    "# Determine dataframe row labels\n",
    "avg_daily.index"
   ]
  },
  {
   "cell_type": "code",
   "execution_count": 7,
   "metadata": {},
   "outputs": [],
   "source": [
    "#station_daily.loc[station_daily.STATION == 'TIMES SQ-42 ST']\n",
    "# Note: Grand central station stop is not appearing in the list. Either it is listed under another name here,\n",
    "# or was not marked as in Manhattan during data cleaning.\n",
    "\n",
    "ts_station_names = sorted(station_daily['STATION'].unique())"
   ]
  },
  {
   "cell_type": "code",
   "execution_count": 8,
   "metadata": {},
   "outputs": [
    {
     "data": {
      "image/png": "[encoded data removed]",
      "text/plain": [
       "<Figure size 720x576 with 1 Axes>"
      ]
     },
     "metadata": {},
     "output_type": "display_data"
    }
   ],
   "source": [
    "fig = plt.figure(figsize = [10,8])\n",
    "n = 10\n",
    "plt.bar(avg_daily.index[:n],avg_daily['DAILY_TRAFFIC'][:n]);\n",
    "plt.xticks(rotation=80);\n",
    "plt.ylabel('Average Daily Traffic')\n",
    "plt.xlabel('Stations')\n",
    "plt.title('Busiest MTA Subway Stations')\n",
    "plt.tight_layout()\n",
    "\n",
    "# Export figure as SVG\n",
    "fig.savefig('./stations_all.svg')"
   ]
  },
  {
   "cell_type": "markdown",
   "metadata": {},
   "source": [
    "# Adding in stations further filtered by location\n",
    "\n",
    "At this point we can rank stations in Manhattan by our ridership statistic, traffic. We will now read in a list of stations that are within the Silicon Alley."
   ]
  },
  {
   "cell_type": "code",
   "execution_count": 9,
   "metadata": {},
   "outputs": [],
   "source": [
    "with open(\"longer_list.pkl\", 'rb') as picklefile: \n",
    "    silicon_stations = pkl.load(picklefile)"
   ]
  },
  {
   "cell_type": "code",
   "execution_count": 10,
   "metadata": {},
   "outputs": [],
   "source": [
    "station_names = pd.Series(sorted([station.upper() for station in silicon_stations['Station_Name'].unique()]))"
   ]
  },
  {
   "cell_type": "markdown",
   "metadata": {},
   "source": [
    "We have noticed that certain string edits can be used to force matches between the two lists of stations. For example, removing 'th' from stations with numbers will result in a match."
   ]
  },
  {
   "cell_type": "code",
   "execution_count": 11,
   "metadata": {},
   "outputs": [],
   "source": [
    "station_names = station_names.str.replace('TH ', ' ')\n",
    "station_names = station_names.str.replace('1ST ', '1 ')\n",
    "station_names = station_names.str.replace('2ND ', '2 ')\n",
    "station_names = station_names.str.replace('3RD ', '3 ')\n",
    "station_names = station_names.str.replace('SQUARE', 'SQ')\n",
    "station_names = station_names.str.replace('PLACE', 'PL')"
   ]
  },
  {
   "cell_type": "code",
   "execution_count": 12,
   "metadata": {},
   "outputs": [
    {
     "name": "stdout",
     "output_type": "stream",
     "text": [
      "103 ST\n",
      "110 ST\n",
      "116 ST\n",
      "125 ST\n",
      "135 ST\n",
      "145 ST\n",
      "155 ST\n",
      "157 ST\n",
      "168 ST\n",
      "175 ST\n",
      "181 ST\n",
      "190 ST\n",
      "191 ST\n",
      "207 ST\n",
      "215 ST\n",
      "34 ST-HERALD SQ\n",
      "42 ST-BRYANT PK\n",
      "5 AV/53 ST\n",
      "5 AV/59 ST\n",
      "57 ST-7 AV\n",
      "72 ST\n",
      "77 ST\n",
      "79 ST\n",
      "8 ST-NYU\n",
      "86 ST\n",
      "96 ST\n",
      "BOWLING GREEN\n",
      "CATHEDRAL PKWY\n",
      "DYCKMAN ST\n",
      "INWOOD-207 ST\n",
      "RECTOR ST\n",
      "SOUTH FERRY\n"
     ]
    }
   ],
   "source": [
    "# Comparing strings\n",
    "\n",
    "# for s1, s2 in zip(station_names,ts_station_names):\n",
    "#     print(s1, ' ----  ', s2)\n",
    "temp = list(station_names)\n",
    "for station in ts_station_names:\n",
    "    if station not in temp:\n",
    "        print(station)"
   ]
  },
  {
   "cell_type": "markdown",
   "metadata": {},
   "source": [
    "We can determine that certain stations from the turnstile data do not belong based on their geography. Those are as follows:  \n",
    "Too far north:\n",
    "* Cathedral Pkwy\n",
    "* Dyckman St\n",
    "* Inwood-207 St\n",
    "* Generally, any street more north than 63rd ST\n",
    "\n",
    "Too far south:\n",
    "* Rector st\n",
    "* South Ferry\n",
    "* Bowling Green\n",
    "\n",
    "Should be included:\n",
    "* 34 ST - Herald Sq\n",
    "* 42 ST - Bryant PK\n",
    "\n",
    "Dubious:\n",
    "* 5 AV/53 ST (might be too north)\n",
    "* 5 AV/59 ST (might be too north)\n",
    "* 8 ST-NYU (probably too far east)\n",
    "* 57 ST/7 AV (might be too north)\n",
    "\n"
   ]
  },
  {
   "cell_type": "code",
   "execution_count": 13,
   "metadata": {},
   "outputs": [],
   "source": [
    "# Replace the text in the ts_station_names for the stations above that should have a match\n",
    "# 34 ST-HERALD SQ, and 42 ST-BRYANT PK\n"
   ]
  },
  {
   "cell_type": "code",
   "execution_count": 14,
   "metadata": {},
   "outputs": [
    {
     "data": {
      "text/plain": [
       "0                            14 ST\n",
       "1                   14 ST-UNION SQ\n",
       "2                            18 ST\n",
       "3                             1 AV\n",
       "4                            23 ST\n",
       "5                            28 ST\n",
       "6                             2 AV\n",
       "7                            33 ST\n",
       "8                            34 ST\n",
       "9                             3 AV\n",
       "10                           42 ST\n",
       "11    47-50 STS ROCKEFELLER CENTER\n",
       "12                           49 ST\n",
       "13                           50 ST\n",
       "14                           51 ST\n",
       "15                           57 ST\n",
       "16                           59 ST\n",
       "17                            5 AV\n",
       "18                      5 AV-53 ST\n",
       "19                            6 AV\n",
       "20                            7 AV\n",
       "21                            8 AV\n",
       "22                            8 ST\n",
       "23                        ASTOR PL\n",
       "24                     BLEECKER ST\n",
       "25                          BOWERY\n",
       "26                        BROAD ST\n",
       "27           BROADWAY-LAFAYETTE ST\n",
       "28                 BROADWAY-NASSAU\n",
       "29       BROOKLYN BRIDGE-CITY HALL\n",
       "30                        CANAL ST\n",
       "31                   CANAL ST (UL)\n",
       "32                     CHAMBERS ST\n",
       "33                  CHRISTOPHER ST\n",
       "34                       CITY HALL\n",
       "35                    CORTLANDT ST\n",
       "36                     DELANCEY ST\n",
       "37                   EAST BROADWAY\n",
       "38                        ESSEX ST\n",
       "39                     FRANKLIN ST\n",
       "40                       FULTON ST\n",
       "41                   GRAND CENTRAL\n",
       "42             GRAND CENTRAL-42 ST\n",
       "43                        GRAND ST\n",
       "44                      HOUSTON ST\n",
       "45                    LEXINGTON AV\n",
       "46              LEXINGTON AV-53 ST\n",
       "47                         PARK PL\n",
       "48                       PRINCE ST\n",
       "49                       SPRING ST\n",
       "50                        TIMES SQ\n",
       "51                  TIMES SQ-42 ST\n",
       "52                        UNION SQ\n",
       "53                         WALL ST\n",
       "54                       WEST 4 ST\n",
       "55              WORLD TRADE CENTER\n",
       "dtype: object"
      ]
     },
     "execution_count": 14,
     "metadata": {},
     "output_type": "execute_result"
    }
   ],
   "source": [
    "station_names"
   ]
  },
  {
   "cell_type": "markdown",
   "metadata": {},
   "source": [
    "The following graph highlights in red the high-volume stations from the turnstile data that are also in the high tech area."
   ]
  },
  {
   "cell_type": "code",
   "execution_count": 16,
   "metadata": {},
   "outputs": [
    {
     "data": {
      "image/png": "[encoded data removed]",
      "text/plain": [
       "<Figure size 720x576 with 1 Axes>"
      ]
     },
     "metadata": {},
     "output_type": "display_data"
    }
   ],
   "source": [
    "fig = plt.figure(figsize = [10,8])\n",
    "\n",
    "n = 10\n",
    "for idx in range(n):\n",
    "    if avg_daily.index[idx] in list(station_names):\n",
    "        shade = 'r'\n",
    "    elif avg_daily.index[idx] == '34 ST-HERALD SQ':\n",
    "        shade = 'r'\n",
    "    else:\n",
    "        shade = 'b'\n",
    "    plt.bar(avg_daily.index[idx],avg_daily['DAILY_TRAFFIC'][idx], color=shade)\n",
    "plt.xticks(rotation=80);\n",
    "plt.ylabel('Average Daily Traffic')\n",
    "plt.xlabel('Stations')\n",
    "plt.title('Busiest MTA Subway Stations')\n",
    "plt.tight_layout()\n",
    "\n",
    "# Export figure as SVG\n",
    "fig.savefig('./stations_filtered.svg')"
   ]
  },
  {
   "cell_type": "code",
   "execution_count": 17,
   "metadata": {},
   "outputs": [
    {
     "name": "stdout",
     "output_type": "stream",
     "text": [
      "['14 ST-UNION SQ', '23 ST', 'TIMES SQ-42 ST', 'FULTON ST', '59 ST', 'CANAL ST', '14 ST', 'CHAMBERS ST', '28 ST', '50 ST', 'WALL ST', '7 AV', '8 AV', 'GRAND ST', '33 ST', '49 ST', '1 AV', '51 ST', 'SPRING ST', '2 AV', 'ASTOR PL', 'PRINCE ST', 'CORTLANDT ST', '57 ST', 'HOUSTON ST', 'BLEECKER ST', 'EAST BROADWAY', '3 AV', '18 ST', 'CITY HALL', 'BROAD ST', '6 AV', 'FRANKLIN ST', 'BOWERY']\n"
     ]
    }
   ],
   "source": [
    "# Create list of high traffic stations from the turnstile data that are in the high tech area\n",
    "# Notice that 34th St - Herald Square does not appear because we have not reconciled that string difference.\n",
    "keepers = []\n",
    "for station in avg_daily.index:\n",
    "    if station in list(station_names):\n",
    "        keepers.append(station)\n",
    "        \n",
    "print(keepers)"
   ]
  },
  {
   "cell_type": "code",
   "execution_count": null,
   "metadata": {},
   "outputs": [],
   "source": []
  }
 ],
 "metadata": {
  "kernelspec": {
   "display_name": "Python 3",
   "language": "python",
   "name": "python3"
  },
  "language_info": {
   "codemirror_mode": {
    "name": "ipython",
    "version": 3
   },
   "file_extension": ".py",
   "mimetype": "text/x-python",
   "name": "python",
   "nbconvert_exporter": "python",
   "pygments_lexer": "ipython3",
   "version": "3.6.6"
  },
  "toc": {
   "base_numbering": 1,
   "nav_menu": {},
   "number_sections": true,
   "sideBar": true,
   "skip_h1_title": false,
   "title_cell": "Table of Contents",
   "title_sidebar": "Contents",
   "toc_cell": false,
   "toc_position": {},
   "toc_section_display": true,
   "toc_window_display": false
  },
  "varInspector": {
   "cols": {
    "lenName": 16,
    "lenType": 16,
    "lenVar": 40
   },
   "kernels_config": {
    "python": {
     "delete_cmd_postfix": "",
     "delete_cmd_prefix": "del ",
     "library": "var_list.py",
     "varRefreshCmd": "print(var_dic_list())"
    },
    "r": {
     "delete_cmd_postfix": ") ",
     "delete_cmd_prefix": "rm(",
     "library": "var_list.r",
     "varRefreshCmd": "cat(var_dic_list()) "
    }
   },
   "types_to_exclude": [
    "module",
    "function",
    "builtin_function_or_method",
    "instance",
    "_Feature"
   ],
   "window_display": false
  }
 },
 "nbformat": 4,
 "nbformat_minor": 2
}
